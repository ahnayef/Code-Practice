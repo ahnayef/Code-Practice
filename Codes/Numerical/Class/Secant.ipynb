{
  "nbformat": 4,
  "nbformat_minor": 0,
  "metadata": {
    "colab": {
      "provenance": []
    },
    "kernelspec": {
      "name": "python3",
      "display_name": "Python 3"
    },
    "language_info": {
      "name": "python"
    }
  },
  "cells": [
    {
      "cell_type": "code",
      "source": [
        "import math"
      ],
      "metadata": {
        "id": "r1YOuPk9po-h"
      },
      "execution_count": 19,
      "outputs": []
    },
    {
      "cell_type": "code",
      "source": [
        "def f(x):\n",
        "  return math.exp(-1*x) - x"
      ],
      "metadata": {
        "id": "9KtRihxSB8LV"
      },
      "execution_count": 20,
      "outputs": []
    },
    {
      "cell_type": "code",
      "execution_count": 21,
      "metadata": {
        "id": "AIknsTLEnjJp"
      },
      "outputs": [],
      "source": [
        "def secant(xi_1, xi):\n",
        "  return (xi - (f(xi)*(xi_1-xi))/(f(xi_1)-f(xi)))  #Secant"
      ]
    },
    {
      "cell_type": "code",
      "source": [
        "xi_1 = 0\n",
        "xi = 1\n",
        "xnew = secant(xi_1, xi)\n",
        "print(xnew)"
      ],
      "metadata": {
        "colab": {
          "base_uri": "https://localhost:8080/"
        },
        "id": "PP-Gv5AcoEO1",
        "outputId": "c7d7f782-40c0-4ea7-d893-af834f1f1fea"
      },
      "execution_count": 22,
      "outputs": [
        {
          "output_type": "stream",
          "name": "stdout",
          "text": [
            "0.6126998367802821\n"
          ]
        }
      ]
    },
    {
      "cell_type": "code",
      "source": [
        "es = 0.1\n",
        "ea = 1\n",
        "\n",
        "while ea > es:\n",
        "  xi_1 = xi\n",
        "  xi = xnew\n",
        "  xnew = secant(xi_1,xi)\n",
        "  ea = (xnew - xi)/xnew * 100\n",
        "  ea = abs(ea)\n",
        "  print(xi,'---', ea)\n",
        "\n"
      ],
      "metadata": {
        "colab": {
          "base_uri": "https://localhost:8080/"
        },
        "id": "qW6QQv4WoaRW",
        "outputId": "9c526632-adc0-4641-acdf-a125c3ae3ec4"
      },
      "execution_count": 23,
      "outputs": [
        {
          "output_type": "stream",
          "name": "stdout",
          "text": [
            "0.6126998367802821 --- 8.665860388099505\n",
            "0.5638383891610742 --- 0.5874723897690938\n",
            "0.5671703584197446 --- 0.004769837617107992\n"
          ]
        }
      ]
    }
  ]
}