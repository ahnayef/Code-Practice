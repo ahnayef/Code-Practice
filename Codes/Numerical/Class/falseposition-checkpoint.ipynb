{
 "cells": [
  {
   "cell_type": "code",
   "execution_count": 107,
   "metadata": {},
   "outputs": [],
   "source": [
    "import math\n",
    "g = 9.81\n",
    "m = 68.1\n",
    "t = 10\n",
    "v = 40"
   ]
  },
  {
   "cell_type": "code",
   "execution_count": 108,
   "metadata": {},
   "outputs": [],
   "source": [
    "def f(c):\n",
    "    return (g*m/c)*(1-math.exp(-1*(c/m*t))) - v              "
   ]
  },
  {
   "cell_type": "code",
   "execution_count": 109,
   "metadata": {},
   "outputs": [
    {
     "name": "stdout",
     "output_type": "stream",
     "text": [
      "6.113943075921462\n"
     ]
    }
   ],
   "source": [
    "es = 0.5\n",
    "xl = 12\n",
    "xu = 16\n",
    "xr = xu - (f(xu)*(xl-xu))/(f(xl)-f(xu))\n",
    "fxl = f(xl)\n",
    "print(fxl)"
   ]
  },
  {
   "cell_type": "code",
   "execution_count": 110,
   "metadata": {},
   "outputs": [
    {
     "name": "stdout",
     "output_type": "stream",
     "text": [
      "[15.0, 6.666666666666667]\n",
      "[14.5, 3.4482758620689653]\n",
      "[14.75, 1.694915254237288]\n",
      "[14.875, 0.8403361344537815]\n",
      "[14.8125, 0.42194092827004215]\n"
     ]
    }
   ],
   "source": [
    "ea = 1\n",
    "while ea > es:\n",
    "    xr_old = xr\n",
    "    fxl = f(xl)\n",
    "    fxr = f(xr)\n",
    "    if fxl*fxr < 0:\n",
    "        xu = xr\n",
    "    elif fxl*fxr > 0:\n",
    "        xl = xr\n",
    "    xr = (xl+xu)/2    \n",
    "    ea = abs((xr - xr_old)/xr)*100\n",
    "    print([xr, ea])"
   ]
  },
  {
   "cell_type": "code",
   "execution_count": null,
   "metadata": {},
   "outputs": [],
   "source": []
  }
 ],
 "metadata": {
  "kernelspec": {
   "display_name": "Python 3",
   "language": "python",
   "name": "python3"
  },
  "language_info": {
   "codemirror_mode": {
    "name": "ipython",
    "version": 3
   },
   "file_extension": ".py",
   "mimetype": "text/x-python",
   "name": "python",
   "nbconvert_exporter": "python",
   "pygments_lexer": "ipython3",
   "version": "3.8.5"
  }
 },
 "nbformat": 4,
 "nbformat_minor": 4
}
