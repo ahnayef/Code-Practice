{
 "cells": [
  {
   "cell_type": "code",
   "execution_count": 44,
   "metadata": {},
   "outputs": [],
   "source": [
    "import math"
   ]
  },
  {
   "cell_type": "code",
   "execution_count": 45,
   "metadata": {},
   "outputs": [],
   "source": [
    "def Es(n):\n",
    "    return (0.5 * 10**(2-n))\n",
    "\n",
    "def Et(trueVal, approximation):\n",
    "    return abs(((trueVal-approximation) / trueVal)*100)\n",
    "\n",
    "def Ea(current, prev):\n",
    "    return abs(((current-prev)/ current)*100)\n"
   ]
  },
  {
   "cell_type": "code",
   "execution_count": 46,
   "metadata": {},
   "outputs": [],
   "source": [
    "g = 9.81\n",
    "m = 68.1\n",
    "t = 10\n",
    "v = 40\n",
    "\n",
    "\n",
    "def f(c):\n",
    "    return ( (((g*m)/c) * (1- math.exp(-(c/m)*t))) - v )\n"
   ]
  },
  {
   "cell_type": "code",
   "execution_count": 47,
   "metadata": {},
   "outputs": [
    {
     "name": "stdout",
     "output_type": "stream",
     "text": [
      "[15.0, 6.666666666666667]\n",
      "[14.5, 3.4482758620689653]\n",
      "[14.75, 1.694915254237288]\n",
      "[14.875, 0.8403361344537815]\n",
      "[14.8125, 0.42194092827004215]\n"
     ]
    }
   ],
   "source": [
    "xl = 12\n",
    "xu = 16\n",
    "\n",
    "xr = (xl+xu)/2\n",
    "\n",
    "es = Es(2)\n",
    "\n",
    "ea = 1\n",
    "\n",
    "while ea>es:\n",
    "    xr_old = (xl+xu)/2\n",
    "    if f(xl)*f(xr) > 0:\n",
    "        xl = xr\n",
    "\n",
    "    elif f(xl)*f(xr) < 0:\n",
    "        xu = xr\n",
    "    else:\n",
    "        break;\n",
    "    xr = (xl+xu)/2\n",
    "    ea = Ea(xr,xr_old)\n",
    "    print([xr,ea])\n",
    "\n"
   ]
  }
 ],
 "metadata": {
  "kernelspec": {
   "display_name": "Python 3",
   "language": "python",
   "name": "python3"
  },
  "language_info": {
   "codemirror_mode": {
    "name": "ipython",
    "version": 3
   },
   "file_extension": ".py",
   "mimetype": "text/x-python",
   "name": "python",
   "nbconvert_exporter": "python",
   "pygments_lexer": "ipython3",
   "version": "3.12.6"
  }
 },
 "nbformat": 4,
 "nbformat_minor": 2
}
