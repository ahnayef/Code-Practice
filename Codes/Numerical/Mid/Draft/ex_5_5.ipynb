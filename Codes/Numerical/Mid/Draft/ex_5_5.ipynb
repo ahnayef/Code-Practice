{
 "cells": [
  {
   "cell_type": "code",
   "execution_count": 82,
   "metadata": {},
   "outputs": [],
   "source": [
    "import math"
   ]
  },
  {
   "cell_type": "code",
   "execution_count": 83,
   "metadata": {},
   "outputs": [],
   "source": [
    "def Es(n):\n",
    "    return (0.5 * 10**(2-n))\n",
    "\n",
    "def Et(trueVal, approximation):\n",
    "    return abs(((trueVal-approximation) / trueVal)*100)\n",
    "\n",
    "def Ea(current, prev):\n",
    "    return abs(((current-prev)/ current)*100)\n"
   ]
  },
  {
   "cell_type": "code",
   "execution_count": 84,
   "metadata": {},
   "outputs": [],
   "source": [
    "g = 9.81\n",
    "m = 68.1\n",
    "t = 10\n",
    "v = 40\n",
    "\n",
    "\n",
    "def f(c):\n",
    "    return ( (((g*m)/c) * (1- math.exp(-(c/m)*t))) - v )\n",
    "\n",
    "def fxr(xl,xu):\n",
    "    return (xu - (f(xu) * (xl-xu)) / (f(xl)-f(xu)))\n"
   ]
  },
  {
   "cell_type": "code",
   "execution_count": 90,
   "metadata": {},
   "outputs": [
    {
     "name": "stdout",
     "output_type": "stream",
     "text": [
      "[14.815076015455954, 0.7815921896799651]\n",
      "[14.802632653525668, 0.08406181671557056]\n"
     ]
    }
   ],
   "source": [
    "es = Es(2)\n",
    "ea = 1\n",
    "\n",
    "\n",
    "xl = 12\n",
    "xu = 16\n",
    "xr = fxr(xl,xu)\n",
    "\n",
    "while ea>es:\n",
    "    xr_old = xr\n",
    "    if f(xl)*f(xr) > 0:\n",
    "        xl = xr\n",
    "\n",
    "    elif f(xl)*f(xr) < 0:\n",
    "        xu = xr\n",
    "\n",
    "    else:\n",
    "        break\n",
    "    \n",
    "    xr = fxr(xl,xu)\n",
    "    ea = Ea(xr,xr_old)\n",
    "    print([xr,ea])\n",
    "\n"
   ]
  }
 ],
 "metadata": {
  "kernelspec": {
   "display_name": "Python 3",
   "language": "python",
   "name": "python3"
  },
  "language_info": {
   "codemirror_mode": {
    "name": "ipython",
    "version": 3
   },
   "file_extension": ".py",
   "mimetype": "text/x-python",
   "name": "python",
   "nbconvert_exporter": "python",
   "pygments_lexer": "ipython3",
   "version": "3.12.6"
  }
 },
 "nbformat": 4,
 "nbformat_minor": 2
}
