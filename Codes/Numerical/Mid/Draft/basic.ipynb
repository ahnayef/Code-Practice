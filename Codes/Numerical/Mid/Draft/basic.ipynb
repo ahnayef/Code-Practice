{
 "cells": [
  {
   "cell_type": "code",
   "execution_count": 18,
   "metadata": {},
   "outputs": [],
   "source": [
    "# def Es(n):\n",
    "#     return (0.5 * 10**(2-n))\n",
    "\n",
    "# def Et(trueVal, approximation):\n",
    "#     return abs(((trueVal-approximation) / trueVal)*100)\n",
    "\n",
    "# def Ea(current, prev):\n",
    "#     return abs(((current-prev)/ current)*100)"
   ]
  },
  {
   "cell_type": "code",
   "execution_count": 19,
   "metadata": {},
   "outputs": [],
   "source": [
    "def Es(n):\n",
    "    return (0.5 * 10**(2-n) )\n",
    "\n",
    "def Ea(current,prev): \n",
    "    return abs( ( (current-prev) / current ) * 100 )\n",
    "\n",
    "def Et(trueValue, approximation):\n",
    "    return abs( ((trueValue - approximation) / trueValue) * 100 )"
   ]
  },
  {
   "cell_type": "code",
   "execution_count": null,
   "metadata": {},
   "outputs": [
    {
     "name": "stdout",
     "output_type": "stream",
     "text": [
      "0.083832090026165\n",
      "0.00016442515009581243\n"
     ]
    }
   ],
   "source": [
    "# print(Es(2))\n",
    "\n",
    "# print(Ea(4.1234, 4.12))\n",
    "# print(Ea(4.12345, 4.1234) )\n",
    "\n",
    "\n",
    "# print(Et(4.12345678, 4.12))\n",
    "# print(Et(4.12345678, 4.12345))\n",
    "\n",
    "# print(Et(1.648721,1.5))\n",
    "# print(Ea(1.5,1))"
   ]
  }
 ],
 "metadata": {
  "kernelspec": {
   "display_name": "Python 3",
   "language": "python",
   "name": "python3"
  },
  "language_info": {
   "codemirror_mode": {
    "name": "ipython",
    "version": 3
   },
   "file_extension": ".py",
   "mimetype": "text/x-python",
   "name": "python",
   "nbconvert_exporter": "python",
   "pygments_lexer": "ipython3",
   "version": "3.12.6"
  }
 },
 "nbformat": 4,
 "nbformat_minor": 2
}
