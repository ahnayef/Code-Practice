{
 "cells": [
  {
   "cell_type": "code",
   "execution_count": 2,
   "metadata": {},
   "outputs": [],
   "source": [
    "import math"
   ]
  },
  {
   "cell_type": "code",
   "execution_count": 3,
   "metadata": {},
   "outputs": [],
   "source": [
    "def Et(trueVal, approximation):\n",
    "    return abs(((trueVal-approximation) / trueVal)*100)\n",
    "\n",
    "def Es(n):\n",
    "    return (0.5 * 10**(2-n))\n",
    "\n",
    "def Ea(current, prev):\n",
    "    return (((current-prev)/ current)*100)"
   ]
  },
  {
   "cell_type": "code",
   "execution_count": 4,
   "metadata": {},
   "outputs": [],
   "source": [
    "# Old code -  With for loop. Not proper\n",
    "\n",
    "# def ex(x,n):\n",
    "#     val=1\n",
    "#     prev=val\n",
    "#     es = Es(3)\n",
    "#     print(\"Terms\",'\\t',\"Res\",'\\t',\"Et\", '\\t',\"Ea\")\n",
    "\n",
    "#     for i in range(1,n+1):\n",
    "#         prev=val\n",
    "#         operation = ((x**i) / math.factorial(i))\n",
    "#         val+= operation\n",
    "#         if Ea(val,prev) < es:\n",
    "#             break\n",
    "#         print(i+1,'\\t',val,'\\t',Et(1.648721,val), '\\t',Ea(val,prev))\n"
   ]
  },
  {
   "cell_type": "code",
   "execution_count": 5,
   "metadata": {},
   "outputs": [],
   "source": [
    "# New aproach with while loop. Proper solution. Used padEnd(we call ':<N' padEnd in JS) for speacing\n",
    "\n",
    "def ex(x, es):\n",
    "    val = 1 \n",
    "    prev = val\n",
    "    i=1\n",
    "\n",
    "    print(f\"{'Terms':<10}{'Res':<15}{'Et':<15}{'Ea':<15}\")\n",
    "    print(f\"{i:<10}{val:<15.10f}{Et(1.648721, val):<15.10f}{Ea(val, prev):<15.10f}\") # Used terenary opearator (It's a JS term)\n",
    "    while (True if i==1 else Ea(val,prev) > es):\n",
    "            prev = val\n",
    "            operation = (x**i) / math.factorial(i)\n",
    "            val += operation\n",
    "            print(f\"{i + 1:<10}{val:<15.10f}{Et(1.648721, val):<15.10f}{Ea(val, prev):<15.10f}\")\n",
    "            i+=1\n",
    "\n",
    "    # Working but long aproach. Used duplicate code\n",
    "    # while True:\n",
    "    #     if i == 1:\n",
    "    #         prev = val\n",
    "    #         operation = (x**i) / math.factorial(i)\n",
    "    #         val += operation\n",
    "    #         print(f\"{i + 1:<10}{val:<15.10f}{Et(1.648721, val):<15.10f}{Ea(val, prev):<15.10f}\")\n",
    "    #         i+=1\n",
    "    #     elif  Ea(val,prev) < es:\n",
    "    #         break\n",
    "    #     else:\n",
    "    #         prev = val\n",
    "    #         operation = (x**i) / math.factorial(i)\n",
    "    #         val += operation\n",
    "    #         print(f\"{i + 1:<10}{val:<15.10f}{Et(1.648721, val):<15.10f}{Ea(val, prev):<15.10f}\")\n",
    "    #         i+=1   \n"
   ]
  },
  {
   "cell_type": "code",
   "execution_count": null,
   "metadata": {},
   "outputs": [],
   "source": [
    "ex(0.5, Es(3))"
   ]
  }
 ],
 "metadata": {
  "kernelspec": {
   "display_name": "Python 3",
   "language": "python",
   "name": "python3"
  },
  "language_info": {
   "codemirror_mode": {
    "name": "ipython",
    "version": 3
   },
   "file_extension": ".py",
   "mimetype": "text/x-python",
   "name": "python",
   "nbconvert_exporter": "python",
   "pygments_lexer": "ipython3",
   "version": "3.12.6"
  }
 },
 "nbformat": 4,
 "nbformat_minor": 2
}
