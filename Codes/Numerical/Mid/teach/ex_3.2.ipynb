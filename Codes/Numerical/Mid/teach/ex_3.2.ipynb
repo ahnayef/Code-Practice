{
 "cells": [
  {
   "cell_type": "code",
   "execution_count": 16,
   "metadata": {},
   "outputs": [],
   "source": [
    "import math"
   ]
  },
  {
   "cell_type": "code",
   "execution_count": 17,
   "metadata": {},
   "outputs": [],
   "source": [
    "def Es(n):\n",
    "    return (0.5 * 10**(2-n) )\n",
    "    \n",
    "\n",
    "def Ea(current,prev): \n",
    "    return abs( ( (current-prev) / current ) * 100 )\n",
    "\n",
    "\n",
    "def Et(trueValue, approximation):\n",
    "    return abs( ((trueValue - approximation) / trueValue) * 100 )"
   ]
  },
  {
   "cell_type": "code",
   "execution_count": null,
   "metadata": {},
   "outputs": [
    {
     "name": "stdout",
     "output_type": "stream",
     "text": [
      "[1.5, 33.33333333333333]\n",
      "[1.625, 7.6923076923076925]\n",
      "[1.6458333333333333, 1.2658227848101222]\n",
      "[1.6484375, 0.157977883096371]\n",
      "[1.6486979166666667, 0.015795293002684303]\n"
     ]
    }
   ],
   "source": [
    "ea = 1\n",
    "\n",
    "es = 0.05\n",
    "\n",
    "current_result = 1\n",
    "\n",
    "x = 0.5\n",
    "\n",
    "n = 1\n",
    "\n",
    "while ea > es:\n",
    "    prev_result = current_result\n",
    "    current_result +=  (x ** n) / math.factorial(n)\n",
    "    n+=1\n",
    "    ea = Ea(current_result, prev_result)\n",
    "    print([current_result,ea])\n"
   ]
  }
 ],
 "metadata": {
  "kernelspec": {
   "display_name": "Python 3",
   "language": "python",
   "name": "python3"
  },
  "language_info": {
   "codemirror_mode": {
    "name": "ipython",
    "version": 3
   },
   "file_extension": ".py",
   "mimetype": "text/x-python",
   "name": "python",
   "nbconvert_exporter": "python",
   "pygments_lexer": "ipython3",
   "version": "3.12.6"
  }
 },
 "nbformat": 4,
 "nbformat_minor": 2
}
