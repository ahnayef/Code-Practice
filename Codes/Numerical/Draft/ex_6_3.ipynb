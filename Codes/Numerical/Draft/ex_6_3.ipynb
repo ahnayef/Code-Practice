{
 "cells": [
  {
   "cell_type": "code",
   "execution_count": 26,
   "metadata": {},
   "outputs": [],
   "source": [
    "import math"
   ]
  },
  {
   "cell_type": "code",
   "execution_count": 27,
   "metadata": {},
   "outputs": [],
   "source": [
    "def Es(n):\n",
    "    return (0.5 * 10**(2-n))\n",
    "\n",
    "def Et(trueVal,approximation):\n",
    "    return abs( ( (trueVal - approximation) / trueVal) *100 )\n",
    "\n",
    "def Ea(current,prev):\n",
    "    return abs(( (current- prev) / current ) * 100 )"
   ]
  },
  {
   "cell_type": "code",
   "execution_count": 28,
   "metadata": {},
   "outputs": [],
   "source": [
    "def fxi1(xi):\n",
    "    return (xi - ( (math.exp(-xi) - xi) / (-math.exp(-xi) -1) ))"
   ]
  },
  {
   "cell_type": "code",
   "execution_count": 29,
   "metadata": {},
   "outputs": [
    {
     "name": "stdout",
     "output_type": "stream",
     "text": [
      "[0.5, 11.838858218705182]\n",
      "[0.5663110031972182, 0.1467507096454938]\n",
      "[0.5671431650348622, 2.2034138461420165e-05]\n",
      "[0.5671432904097811, 7.225353895011189e-08]\n"
     ]
    }
   ],
   "source": [
    "trueVal = 0.56714329\n",
    "\n",
    "xi1 = 0\n",
    "\n",
    "for i in range(4):\n",
    "    xi = xi1\n",
    "    xi1= fxi1(xi)\n",
    "    print([xi1, Et(trueVal, xi1)])\n",
    "\n"
   ]
  }
 ],
 "metadata": {
  "kernelspec": {
   "display_name": "Python 3",
   "language": "python",
   "name": "python3"
  },
  "language_info": {
   "codemirror_mode": {
    "name": "ipython",
    "version": 3
   },
   "file_extension": ".py",
   "mimetype": "text/x-python",
   "name": "python",
   "nbconvert_exporter": "python",
   "pygments_lexer": "ipython3",
   "version": "3.12.6"
  }
 },
 "nbformat": 4,
 "nbformat_minor": 2
}
