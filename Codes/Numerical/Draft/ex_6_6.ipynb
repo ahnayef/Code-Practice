{
 "cells": [
  {
   "cell_type": "code",
   "execution_count": 76,
   "metadata": {},
   "outputs": [],
   "source": [
    "import math"
   ]
  },
  {
   "cell_type": "code",
   "execution_count": 77,
   "metadata": {},
   "outputs": [],
   "source": [
    "def Es(n):\n",
    "    return (0.5 * 10**(2-n))\n",
    "\n",
    "def Et(trueVal,approximation):\n",
    "    return abs( ( (trueVal - approximation) / trueVal) *100 )\n",
    "\n",
    "def Ea(current,prev):\n",
    "    return abs(( (current- prev) / current ) * 100 )"
   ]
  },
  {
   "cell_type": "code",
   "execution_count": 78,
   "metadata": {},
   "outputs": [],
   "source": [
    "def Ex(x):\n",
    "    return math.exp(-1*x) - x\n",
    "\n",
    "def f(xi,xi_1):\n",
    "     return (xi - (Ex(xi)*(xi_1-xi))/(Ex(xi_1)-Ex(xi)))\n",
    "\n"
   ]
  },
  {
   "cell_type": "code",
   "execution_count": 79,
   "metadata": {},
   "outputs": [
    {
     "name": "stdout",
     "output_type": "stream",
     "text": [
      "0.6126998367802821 ------ 8.665860388099505\n",
      "0.5638383891610742 ------ 0.5874723897690938\n",
      "0.5671703584197446 ------ 0.004769837617107992\n"
     ]
    }
   ],
   "source": [
    "\n",
    "\n",
    "xi_1 = 0\n",
    "xi = 1\n",
    "xnew = f(xi,xi_1)\n",
    "ea= 1\n",
    "es = 0.1\n",
    "\n",
    "while ea > es:\n",
    "\n",
    "    xi_1 = xi\n",
    "    xi = xnew\n",
    "    xnew = f(xi, xi_1)\n",
    "    ea = Ea(xnew, xi)\n",
    "    print(xi,'------', ea)\n",
    "\n",
    "\n"
   ]
  },
  {
   "cell_type": "markdown",
   "metadata": {},
   "source": []
  }
 ],
 "metadata": {
  "kernelspec": {
   "display_name": "Python 3",
   "language": "python",
   "name": "python3"
  },
  "language_info": {
   "codemirror_mode": {
    "name": "ipython",
    "version": 3
   },
   "file_extension": ".py",
   "mimetype": "text/x-python",
   "name": "python",
   "nbconvert_exporter": "python",
   "pygments_lexer": "ipython3",
   "version": "3.12.6"
  }
 },
 "nbformat": 4,
 "nbformat_minor": 2
}
