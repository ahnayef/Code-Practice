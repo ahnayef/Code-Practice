{
 "cells": [
  {
   "cell_type": "code",
   "execution_count": 10,
   "metadata": {},
   "outputs": [],
   "source": [
    "import math"
   ]
  },
  {
   "cell_type": "code",
   "execution_count": 11,
   "metadata": {},
   "outputs": [],
   "source": [
    "def Es(n):\n",
    "    return 0.5 * 10**(2-n)\n",
    "\n",
    "def Et(trueVal, approximation):\n",
    "    return abs( ( trueVal - approximation / trueVal ) * 100 )\n",
    "\n",
    "def Ea(current, prev):\n",
    "    return abs( ( (current - prev)  / current ) *100 )"
   ]
  },
  {
   "cell_type": "code",
   "execution_count": null,
   "metadata": {},
   "outputs": [
    {
     "name": "stdout",
     "output_type": "stream",
     "text": [
      "[1.0, 100.0]\n",
      "[0.36787944117144233, 171.8281828459045]\n",
      "[0.6922006275553464, 46.85363946133844]\n",
      "[0.5004735005636368, 38.30914659333314]\n",
      "[0.6062435350855974, 17.446789681151248]\n",
      "[0.545395785975027, 11.156622525381316]\n",
      "[0.5796123355033789, 5.9033508144086735]\n",
      "[0.5601154613610891, 3.480866979624528]\n",
      "[0.571143115080177, 1.9308039312598229]\n",
      "[0.5648793473910495, 1.1088682420515694]\n",
      "[0.5684287250290607, 0.6244191191832817]\n",
      "[0.5664147331468833, 0.35556841379956905]\n"
     ]
    }
   ],
   "source": [
    "es = Es(2)\n",
    "\n",
    "ea = 1\n",
    "\n",
    "i = 0\n",
    "\n",
    "final_res = 0\n",
    "\n",
    "while ea > es:\n",
    "    res = final_res\n",
    "    final_res = math.exp(-res)\n",
    "    ea = Ea(final_res, res)\n",
    "    print([final_res, ea])"
   ]
  }
 ],
 "metadata": {
  "kernelspec": {
   "display_name": "Python 3",
   "language": "python",
   "name": "python3"
  },
  "language_info": {
   "codemirror_mode": {
    "name": "ipython",
    "version": 3
   },
   "file_extension": ".py",
   "mimetype": "text/x-python",
   "name": "python",
   "nbconvert_exporter": "python",
   "pygments_lexer": "ipython3",
   "version": "3.12.6"
  }
 },
 "nbformat": 4,
 "nbformat_minor": 2
}
