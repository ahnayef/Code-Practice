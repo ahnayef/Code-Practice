{
 "cells": [
  {
   "cell_type": "code",
   "execution_count": 1,
   "metadata": {},
   "outputs": [],
   "source": [
    "def Es(n):\n",
    "    return (0.5 * 10**(2-n))\n",
    "\n",
    "def Et(trueVal, approximation):\n",
    "    return abs(((trueVal-approximation) / trueVal)*100)\n",
    "\n",
    "def Ea(current, prev):\n",
    "    return abs(((current-prev)/ current)*100)"
   ]
  },
  {
   "cell_type": "code",
   "execution_count": 2,
   "metadata": {},
   "outputs": [
    {
     "name": "stdout",
     "output_type": "stream",
     "text": [
      "0.05\n",
      "9.02038610535076\n",
      "33.33333333333333\n"
     ]
    }
   ],
   "source": [
    "print(Es(3))\n",
    "print(Et(1.648721,1.5))\n",
    "print(Ea(1.5,1))"
   ]
  }
 ],
 "metadata": {
  "kernelspec": {
   "display_name": "Python 3",
   "language": "python",
   "name": "python3"
  },
  "language_info": {
   "codemirror_mode": {
    "name": "ipython",
    "version": 3
   },
   "file_extension": ".py",
   "mimetype": "text/x-python",
   "name": "python",
   "nbconvert_exporter": "python",
   "pygments_lexer": "ipython3",
   "version": "3.12.6"
  }
 },
 "nbformat": 4,
 "nbformat_minor": 2
}
