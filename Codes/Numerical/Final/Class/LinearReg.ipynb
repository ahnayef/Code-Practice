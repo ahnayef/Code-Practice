{
 "cells": [
  {
   "cell_type": "code",
   "execution_count": 5,
   "id": "384165e2",
   "metadata": {},
   "outputs": [
    {
     "name": "stdout",
     "output_type": "stream",
     "text": [
      "a0: 0.07142857142857117\n",
      "a1: 0.8392857142857143\n"
     ]
    }
   ],
   "source": [
    "x = [1,2,3,4,5,6,7]\n",
    "y = [0.5,2.5,2.0,4.0,3.5,6.0,5.5]\n",
    "n = len(x)\n",
    "sumx = 0\n",
    "sumy = 0\n",
    "sumxy = 0\n",
    "sumx2 = 0\n",
    "\n",
    "for i in range(n):\n",
    "    sumx = sumx + x[i]\n",
    "    sumy = sumy + y[i]\n",
    "    sumxy = sumxy + x[i]*y[i]\n",
    "    sumx2 = sumx2 + x[i]*x[i]\n",
    "xm = sumx/n\n",
    "ym = sumy/n\n",
    "a1 = (n*sumxy - sumx*sumy)/(n*sumx2-sumx*sumx)\n",
    "a0 = ym - a1*xm\n",
    "print('a0:',a0)\n",
    "print('a1:',a1)"
   ]
  },
  {
   "cell_type": "code",
   "execution_count": 28,
   "id": "a9f88f2f",
   "metadata": {},
   "outputs": [
    {
     "name": "stdout",
     "output_type": "stream",
     "text": [
      "0.9107142857142855\n",
      "1.7499999999999998\n",
      "2.589285714285714\n",
      "3.4285714285714284\n",
      "4.267857142857142\n",
      "5.107142857142857\n",
      "5.946428571428571\n"
     ]
    },
    {
     "data": {
      "text/plain": [
       "[<matplotlib.lines.Line2D at 0x216e0f2ddf0>]"
      ]
     },
     "execution_count": 28,
     "metadata": {},
     "output_type": "execute_result"
    },
    {
     "data": {
      "image/png": "[encoded data removed]",
      "text/plain": [
       "<Figure size 432x288 with 1 Axes>"
      ]
     },
     "metadata": {
      "needs_background": "light"
     },
     "output_type": "display_data"
    }
   ],
   "source": [
    "import matplotlib.pyplot as plt \n",
    "plt.plot(x,y,'o')\n",
    "import numpy as np\n",
    "\n",
    "yp=np.zeros(n)\n",
    "for i in range(n):\n",
    "    yp[i] = (x[i]*a1 + a0)\n",
    "    print(yp[i])\n",
    "plt.plot(x,yp,'r')  "
   ]
  },
  {
   "cell_type": "code",
   "execution_count": 24,
   "id": "cc4e119e",
   "metadata": {},
   "outputs": [
    {
     "name": "stdout",
     "output_type": "stream",
     "text": [
      "0.0\n",
      "1.0\n",
      "2.0\n",
      "3.0\n",
      "4.0\n",
      "5.0\n",
      "5.0\n"
     ]
    }
   ],
   "source": [
    "\n",
    "\n"
   ]
  },
  {
   "cell_type": "code",
   "execution_count": null,
   "id": "3dcf1d4a",
   "metadata": {},
   "outputs": [],
   "source": []
  }
 ],
 "metadata": {
  "kernelspec": {
   "display_name": "Python 3 (ipykernel)",
   "language": "python",
   "name": "python3"
  },
  "language_info": {
   "codemirror_mode": {
    "name": "ipython",
    "version": 3
   },
   "file_extension": ".py",
   "mimetype": "text/x-python",
   "name": "python",
   "nbconvert_exporter": "python",
   "pygments_lexer": "ipython3",
   "version": "3.9.12"
  }
 },
 "nbformat": 4,
 "nbformat_minor": 5
}
