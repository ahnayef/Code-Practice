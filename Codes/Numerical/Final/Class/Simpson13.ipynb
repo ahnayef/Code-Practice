{
 "cells": [
  {
   "cell_type": "code",
   "execution_count": 1,
   "metadata": {},
   "outputs": [],
   "source": [
    "def f(x):\n",
    "    return 0.2 + 25*x - 200*x**2 + 675*x**3 - 900*x**4 + 400*x**5\n",
    "\n",
    "\n",
    "a = 0\n",
    "b = 0.8\n",
    "n = 4\n",
    "h = (b-a)/n\n",
    "xi = [0]*(n+1)"
   ]
  },
  {
   "cell_type": "code",
   "execution_count": 2,
   "metadata": {},
   "outputs": [
    {
     "name": "stdout",
     "output_type": "stream",
     "text": [
      "[0.0, 0.2, 0.4, 0.6000000000000001, 0.8]\n"
     ]
    }
   ],
   "source": [
    "for k in range(n+1):\n",
    "    xi[k] = k*(b-a)/n\n",
    "print(xi)    "
   ]
  },
  {
   "cell_type": "code",
   "execution_count": 3,
   "metadata": {},
   "outputs": [
    {
     "name": "stdout",
     "output_type": "stream",
     "text": [
      "1.6234666666666717\n"
     ]
    }
   ],
   "source": [
    "#simpson's 1/3 rule: n=2\n",
    "#simp13  = h*(f(xi[0]) + 4* f(xi[1]) + f(xi[2]))/3\n",
    "#print(simp13)\n",
    "\n",
    "\n",
    "#multiple-application simpson's rule\n",
    "mul_simp13 = h/3 * (f(xi[0]) + 4*(f(xi[1]) + f(xi[3])) + 2*f(xi[2]) + f(xi[4]) )\n",
    "print(mul_simp13)"
   ]
  }
 ],
 "metadata": {
  "kernelspec": {
   "display_name": "Python 3",
   "language": "python",
   "name": "python3"
  },
  "language_info": {
   "codemirror_mode": {
    "name": "ipython",
    "version": 3
   },
   "file_extension": ".py",
   "mimetype": "text/x-python",
   "name": "python",
   "nbconvert_exporter": "python",
   "pygments_lexer": "ipython3",
   "version": "3.12.7"
  }
 },
 "nbformat": 4,
 "nbformat_minor": 2
}
