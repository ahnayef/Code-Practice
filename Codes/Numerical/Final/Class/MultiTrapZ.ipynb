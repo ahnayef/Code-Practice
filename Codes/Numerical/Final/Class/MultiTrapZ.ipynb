{
 "cells": [
  {
   "cell_type": "code",
   "execution_count": 5,
   "metadata": {},
   "outputs": [],
   "source": [
    "import numpy as np"
   ]
  },
  {
   "cell_type": "code",
   "execution_count": 6,
   "metadata": {},
   "outputs": [
    {
     "name": "stdout",
     "output_type": "stream",
     "text": [
      "0.2\n"
     ]
    }
   ],
   "source": [
    "def f(x):\n",
    "    return 0.2 + 25*x - 200*(x**2) + 675*(x**3) - 900 * (x**4) + 400 * (x**5)\n",
    "\n",
    "print(f(0))"
   ]
  },
  {
   "cell_type": "code",
   "execution_count": 7,
   "metadata": {},
   "outputs": [
    {
     "data": {
      "text/plain": [
       "array([0. , 0.2, 0.4, 0.6, 0.8])"
      ]
     },
     "execution_count": 7,
     "metadata": {},
     "output_type": "execute_result"
    }
   ],
   "source": [
    "a = 0\n",
    "b= 0.8\n",
    "n= 4\n",
    "h = (b-a)/n\n",
    "x = np.zeros(n+1)\n",
    "\n",
    "for k in range(0,n+1):\n",
    "    x[k] = k* h\n",
    "    \n",
    "x"
   ]
  },
  {
   "cell_type": "code",
   "execution_count": 8,
   "metadata": {},
   "outputs": [
    {
     "name": "stdout",
     "output_type": "stream",
     "text": [
      "1.484800000000007\n"
     ]
    }
   ],
   "source": [
    "sum = f(x[0])\n",
    "\n",
    "for i in range(1,n):\n",
    "    sum += 2 * f(x[i])\n",
    "\n",
    "sum = sum + f(x[n])\n",
    "\n",
    "TrapM = h/2 * sum;\n",
    "print(TrapM)"
   ]
  }
 ],
 "metadata": {
  "kernelspec": {
   "display_name": "Python 3",
   "language": "python",
   "name": "python3"
  },
  "language_info": {
   "codemirror_mode": {
    "name": "ipython",
    "version": 3
   },
   "file_extension": ".py",
   "mimetype": "text/x-python",
   "name": "python",
   "nbconvert_exporter": "python",
   "pygments_lexer": "ipython3",
   "version": "3.12.7"
  }
 },
 "nbformat": 4,
 "nbformat_minor": 2
}
