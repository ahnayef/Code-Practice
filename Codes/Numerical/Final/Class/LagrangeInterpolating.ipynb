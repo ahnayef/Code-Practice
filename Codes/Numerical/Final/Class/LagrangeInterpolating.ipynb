{
 "cells": [
  {
   "cell_type": "code",
   "execution_count": 2,
   "metadata": {},
   "outputs": [
    {
     "ename": "ModuleNotFoundError",
     "evalue": "No module named 'numpy'",
     "output_type": "error",
     "traceback": [
      "\u001b[1;31m---------------------------------------------------------------------------\u001b[0m",
      "\u001b[1;31mModuleNotFoundError\u001b[0m                       Traceback (most recent call last)",
      "Cell \u001b[1;32mIn[2], line 1\u001b[0m\n\u001b[1;32m----> 1\u001b[0m \u001b[38;5;28;01mfrom\u001b[39;00m \u001b[38;5;21;01mnumpy\u001b[39;00m \u001b[38;5;28;01mimport\u001b[39;00m log \u001b[38;5;28;01mas\u001b[39;00m ln\n",
      "\u001b[1;31mModuleNotFoundError\u001b[0m: No module named 'numpy'"
     ]
    }
   ],
   "source": [
    "from numpy import log as ln"
   ]
  },
  {
   "cell_type": "code",
   "execution_count": null,
   "metadata": {},
   "outputs": [],
   "source": [
    "x = [1,4,6]\n",
    "y = [0,1.386294, 1.79176] #f(n) ln n \n",
    "xp = 2\n",
    "sum = 0\n",
    "n = 3"
   ]
  },
  {
   "cell_type": "code",
   "execution_count": null,
   "metadata": {},
   "outputs": [
    {
     "name": "stdout",
     "output_type": "stream",
     "text": [
      "0.5658439999999999\n",
      "True Eror:  18.36596672832255\n"
     ]
    }
   ],
   "source": [
    "for i in range(0,n):\n",
    "    product = y[i]\n",
    "    for j in range(0,n):\n",
    "        if(i!=j):\n",
    "            product = product*(xp-x[j])/(x[i]-x[j])\n",
    "    sum = sum + product\n",
    "lr = sum\n",
    "print(lr)\n",
    "\n",
    "# Errror:\n",
    "trueVal = ln(xp)\n",
    "et = ((trueVal- lr) / trueVal) * 100\n",
    "print(\"True Eror: \", et);"
   ]
  }
 ],
 "metadata": {
  "kernelspec": {
   "display_name": "Python 3",
   "language": "python",
   "name": "python3"
  },
  "language_info": {
   "codemirror_mode": {
    "name": "ipython",
    "version": 3
   },
   "file_extension": ".py",
   "mimetype": "text/x-python",
   "name": "python",
   "nbconvert_exporter": "python",
   "pygments_lexer": "ipython3",
   "version": "3.11.9"
  }
 },
 "nbformat": 4,
 "nbformat_minor": 2
}
