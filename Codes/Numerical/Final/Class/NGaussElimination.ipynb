{
 "cells": [
  {
   "cell_type": "code",
   "execution_count": 1,
   "metadata": {},
   "outputs": [
    {
     "name": "stdout",
     "output_type": "stream",
     "text": [
      "[[3, -0.1, -0.2], [0.1, 7, -0.3], [0.3, -0.2, 10]]\n",
      "[7.85, -19.3, 71.4]\n"
     ]
    }
   ],
   "source": [
    "#Equations initilization\n",
    "\n",
    "a = [[3, -0.1, -0.2], [0.1, 7, -0.3], [0.3,-0.2,10]]\n",
    "print(a)\n",
    "\n",
    "b = [7.85, -19.3, 71.4]\n",
    "print(b)"
   ]
  },
  {
   "cell_type": "code",
   "execution_count": 2,
   "metadata": {},
   "outputs": [],
   "source": [
    "# Forward elimination\n",
    "n = 3 #no. of unknowns\n",
    "for k in range(n-1):\n",
    "    for i in range(k+1,n):\n",
    "        factor = a[i][k]/a[k][k]\n",
    "        for j in range(k+1,n):\n",
    "            a[i][j] = a[i][j] - factor*a[k][j]\n",
    "        b[i] = b[i] - factor * b[k]        "
   ]
  },
  {
   "cell_type": "code",
   "execution_count": 3,
   "metadata": {},
   "outputs": [],
   "source": [
    "# Back Substitition\n",
    "x = [0]*n # unknown initialization\n",
    "\n",
    "x[n-1] = b[n-1] / a[n-1][n-1]\n",
    "\n",
    "for i in range(n-2,-1,-1):\n",
    "    sum = b[i]\n",
    "    for j in range(i+1,n):\n",
    "        sum = sum - a[i][j]*x[j]\n",
    "    x[i] = sum / a[i][i]    "
   ]
  },
  {
   "cell_type": "code",
   "execution_count": 4,
   "metadata": {},
   "outputs": [
    {
     "name": "stdout",
     "output_type": "stream",
     "text": [
      "[3.0, -2.5, 7.000000000000002]\n"
     ]
    }
   ],
   "source": [
    "print(x)"
   ]
  }
 ],
 "metadata": {
  "kernelspec": {
   "display_name": "Python 3",
   "language": "python",
   "name": "python3"
  },
  "language_info": {
   "codemirror_mode": {
    "name": "ipython",
    "version": 3
   },
   "file_extension": ".py",
   "mimetype": "text/x-python",
   "name": "python",
   "nbconvert_exporter": "python",
   "pygments_lexer": "ipython3",
   "version": "3.12.7"
  }
 },
 "nbformat": 4,
 "nbformat_minor": 4
}
